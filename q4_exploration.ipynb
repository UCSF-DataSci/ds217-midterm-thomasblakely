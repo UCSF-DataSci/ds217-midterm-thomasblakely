{
 "cells": [
  {
   "cell_type": "markdown",
   "metadata": {},
   "source": [
    "# Assignment 5, Question 4: Data Exploration\n",
    "\n",
    "**Points: 15**\n",
    "\n",
    "In this notebook, you'll explore the clinical trial dataset using pandas selection and filtering techniques.\n",
    "\n",
    "You'll use utility functions from `q3_data_utils` where helpful, but also demonstrate direct pandas operations."
   ]
  },
  {
   "cell_type": "markdown",
   "metadata": {},
   "source": [
    "## Setup"
   ]
  },
  {
   "cell_type": "code",
   "execution_count": 1,
   "metadata": {
    "execution": {
     "iopub.execute_input": "2025-10-29T13:27:09.358254Z",
     "iopub.status.busy": "2025-10-29T13:27:09.357942Z",
     "iopub.status.idle": "2025-10-29T13:27:10.184945Z",
     "shell.execute_reply": "2025-10-29T13:27:10.184266Z"
    }
   },
   "outputs": [
    {
     "name": "stdout",
     "output_type": "stream",
     "text": [
      "Loaded 10000 patients with 18 variables\n"
     ]
    }
   ],
   "source": [
    "import pandas as pd\n",
    "import numpy as np\n",
    "import matplotlib.pyplot as plt\n",
    "\n",
    "# Import utilities from Q3\n",
    "from q3_data_utils import load_data, detect_missing, filter_data\n",
    "\n",
    "# Load the data\n",
    "df = load_data('data/clinical_trial_raw.csv')\n",
    "print(f\"Loaded {len(df)} patients with {len(df.columns)} variables\")\n",
    "\n",
    "# Prewritten visualization functions for exploration\n",
    "def plot_value_counts(series, title, figsize=(10, 6)):\n",
    "    \"\"\"\n",
    "    Create a bar chart of value counts.\n",
    "    \n",
    "    Args:\n",
    "        series: pandas Series with value counts\n",
    "        title: Chart title\n",
    "        figsize: Figure size tuple\n",
    "    \"\"\"\n",
    "    plt.figure(figsize=figsize)\n",
    "    series.plot(kind='bar')\n",
    "    plt.title(title)\n",
    "    plt.xticks(rotation=45)\n",
    "    plt.tight_layout()\n",
    "    plt.show()\n",
    "\n",
    "def plot_crosstab(crosstab_data, title, figsize=(10, 6)):\n",
    "    \"\"\"\n",
    "    Create a heatmap of crosstab data.\n",
    "    \n",
    "    Args:\n",
    "        crosstab_data: pandas DataFrame from pd.crosstab()\n",
    "        title: Chart title\n",
    "        figsize: Figure size tuple\n",
    "    \"\"\"\n",
    "    plt.figure(figsize=figsize)\n",
    "    plt.imshow(crosstab_data.values, cmap='Blues', aspect='auto')\n",
    "    plt.colorbar()\n",
    "    plt.title(title)\n",
    "    plt.xticks(range(len(crosstab_data.columns)), crosstab_data.columns, rotation=45)\n",
    "    plt.yticks(range(len(crosstab_data.index)), crosstab_data.index)\n",
    "    plt.tight_layout()\n",
    "    plt.show()"
   ]
  },
  {
   "cell_type": "markdown",
   "metadata": {},
   "source": [
    "## Part 1: Basic Exploration (3 points)\n",
    "\n",
    "Display:\n",
    "1. Dataset shape\n",
    "2. Column names and types\n",
    "3. First 10 rows\n",
    "4. Summary statistics (.describe())"
   ]
  },
  {
   "cell_type": "code",
   "execution_count": 2,
   "metadata": {
    "execution": {
     "iopub.execute_input": "2025-10-29T13:27:10.213713Z",
     "iopub.status.busy": "2025-10-29T13:27:10.213523Z",
     "iopub.status.idle": "2025-10-29T13:27:10.239312Z",
     "shell.execute_reply": "2025-10-29T13:27:10.238668Z"
    }
   },
   "outputs": [
    {
     "name": "stdout",
     "output_type": "stream",
     "text": [
      "Dataset shape:\n",
      "(10000, 18)\n",
      "Column names and types:\n",
      "patient_id             object\n",
      "age                     int64\n",
      "sex                    object\n",
      "bmi                   float64\n",
      "enrollment_date        object\n",
      "systolic_bp           float64\n",
      "diastolic_bp          float64\n",
      "cholesterol_total     float64\n",
      "cholesterol_hdl       float64\n",
      "cholesterol_ldl       float64\n",
      "glucose_fasting       float64\n",
      "site                   object\n",
      "intervention_group     object\n",
      "follow_up_months        int64\n",
      "adverse_events          int64\n",
      "outcome_cvd            object\n",
      "adherence_pct         float64\n",
      "dropout                object\n",
      "dtype: object\n",
      "First ten rows:\n",
      "  patient_id  age         sex   bmi enrollment_date  systolic_bp  \\\n",
      "0     P00001   80           F  29.3      2022-05-01        123.0   \n",
      "1     P00002   80    Female     NaN      2022-01-06        139.0   \n",
      "2     P00003   82      Female  -1.0      2023-11-04        123.0   \n",
      "3     P00004   95      Female  25.4      2022-08-15        116.0   \n",
      "4     P00005   95           M   NaN      2023-04-17         97.0   \n",
      "5     P00006   78           F  26.8      2023-08-29        116.0   \n",
      "6     P00007   84           F  25.4      2022-05-12        133.0   \n",
      "7     P00008   70        Male  24.7      2022-06-04        111.0   \n",
      "8     P00009   92      Female  26.9      2022-04-06          NaN   \n",
      "9     P00010   75        Male  21.1      2023-12-14        128.0   \n",
      "\n",
      "   diastolic_bp  cholesterol_total  cholesterol_hdl  cholesterol_ldl  \\\n",
      "0          80.0              120.0             55.0             41.0   \n",
      "1          81.0              206.0             58.0            107.0   \n",
      "2          86.0              172.0             56.0             82.0   \n",
      "3          77.0              200.0             56.0            104.0   \n",
      "4          71.0              185.0             78.0             75.0   \n",
      "5          66.0              164.0             54.0             99.0   \n",
      "6         100.0              215.0             62.0            113.0   \n",
      "7          72.0              174.0             60.0             94.0   \n",
      "8           NaN              189.0             62.0             89.0   \n",
      "9          76.0              218.0             77.0             97.0   \n",
      "\n",
      "   glucose_fasting    site intervention_group  follow_up_months  \\\n",
      "0            118.0  site b            Control                20   \n",
      "1             79.0  Site A            CONTROL                24   \n",
      "2             77.0  SITE C      treatment b                   2   \n",
      "3            115.0  Site D        treatment b                17   \n",
      "4            113.0  site e         Treatmen A                 9   \n",
      "5             99.0  Site A         TreatmentA                 4   \n",
      "6             70.0  site a        treatment a                20   \n",
      "7            109.0  SITE B        TREATMENT A                19   \n",
      "8            103.0  site a            Control                21   \n",
      "9             96.0  SITE A        Treatment B                 1   \n",
      "\n",
      "   adverse_events outcome_cvd  adherence_pct dropout  \n",
      "0               0          No           24.0      No  \n",
      "1               0          No           77.0      No  \n",
      "2               0         Yes           70.0      No  \n",
      "3               0          No           62.0      No  \n",
      "4               0         yes            NaN     Yes  \n",
      "5               0         yes            NaN     Yes  \n",
      "6               1          No           76.0      No  \n",
      "7               0          No           53.0      No  \n",
      "8               0         yes           53.0      No  \n",
      "9               0          No           50.0      No  \n",
      "Summary statistics:\n",
      "                age          bmi  systolic_bp  diastolic_bp  \\\n",
      "count  10000.000000  9562.000000  9586.000000   9586.000000   \n",
      "mean      59.182700    25.730558   117.531087     73.550908   \n",
      "std      151.769963     5.339547    13.973973     10.167464   \n",
      "min     -999.000000    -1.000000    75.000000     60.000000   \n",
      "25%       70.000000    23.500000   108.000000     65.000000   \n",
      "50%       80.000000    26.000000   117.000000     73.000000   \n",
      "75%       92.000000    28.775000   127.000000     81.000000   \n",
      "max      100.000000    42.800000   173.000000    118.000000   \n",
      "\n",
      "       cholesterol_total  cholesterol_hdl  cholesterol_ldl  glucose_fasting  \\\n",
      "count        9446.000000      9446.000000      9446.000000      9631.000000   \n",
      "mean          178.039488        61.369786        85.698603        96.424255   \n",
      "std            33.129034        11.062101        28.686463        17.112961   \n",
      "min            91.000000        25.000000        40.000000        51.000000   \n",
      "25%           155.000000        54.000000        65.000000        84.000000   \n",
      "50%           177.000000        61.000000        84.000000        96.000000   \n",
      "75%           200.000000        69.000000       105.000000       108.000000   \n",
      "max           315.000000        98.000000       226.000000       163.000000   \n",
      "\n",
      "       follow_up_months  adverse_events  adherence_pct  \n",
      "count       10000.00000    10000.000000    8533.000000  \n",
      "mean           12.25460        0.145500      60.615610  \n",
      "std             7.07675        0.393631      18.974399  \n",
      "min             0.00000        0.000000      20.000000  \n",
      "25%             6.00000        0.000000      47.000000  \n",
      "50%            12.00000        0.000000      62.000000  \n",
      "75%            19.00000        0.000000      75.000000  \n",
      "max            24.00000        4.000000     100.000000  \n"
     ]
    }
   ],
   "source": [
    "# Display dataset info\n",
    "print(f\"Dataset shape:\\n{df.shape}\")\n",
    "print(f\"Column names and types:\\n{df.dtypes}\")\n",
    "print(f\"First ten rows:\\n{df.head(10)}\")\n",
    "print(f\"Summary statistics:\\n{df.describe()}\")"
   ]
  },
  {
   "cell_type": "markdown",
   "metadata": {},
   "source": [
    "## Part 2: Column Selection (3 points)\n",
    "\n",
    "Demonstrate different selection methods:\n",
    "\n",
    "1. Select only numeric columns using `.select_dtypes()`\n",
    "2. Select specific columns by name\n",
    "3. Select a subset of rows and columns using `.loc[]`"
   ]
  },
  {
   "cell_type": "code",
   "execution_count": 3,
   "metadata": {
    "execution": {
     "iopub.execute_input": "2025-10-29T13:27:10.240971Z",
     "iopub.status.busy": "2025-10-29T13:27:10.240825Z",
     "iopub.status.idle": "2025-10-29T13:27:10.247861Z",
     "shell.execute_reply": "2025-10-29T13:27:10.247328Z"
    }
   },
   "outputs": [
    {
     "name": "stdout",
     "output_type": "stream",
     "text": [
      "Select numeric columns:\n",
      "      age   bmi  systolic_bp  diastolic_bp  cholesterol_total  \\\n",
      "0      80  29.3        123.0          80.0              120.0   \n",
      "1      80   NaN        139.0          81.0              206.0   \n",
      "2      82  -1.0        123.0          86.0              172.0   \n",
      "3      95  25.4        116.0          77.0              200.0   \n",
      "4      95   NaN         97.0          71.0              185.0   \n",
      "...   ...   ...          ...           ...                ...   \n",
      "9995   72  23.2        122.0          73.0              182.0   \n",
      "9996  100  28.9        124.0          78.0              157.0   \n",
      "9997   78  23.8        110.0          63.0              154.0   \n",
      "9998   86  27.0        139.0          98.0              196.0   \n",
      "9999   67  29.4        134.0          83.0              197.0   \n",
      "\n",
      "      cholesterol_hdl  cholesterol_ldl  glucose_fasting  follow_up_months  \\\n",
      "0                55.0             41.0            118.0                20   \n",
      "1                58.0            107.0             79.0                24   \n",
      "2                56.0             82.0             77.0                 2   \n",
      "3                56.0            104.0            115.0                17   \n",
      "4                78.0             75.0            113.0                 9   \n",
      "...               ...              ...              ...               ...   \n",
      "9995             54.0             92.0             97.0                21   \n",
      "9996             56.0             70.0            102.0                11   \n",
      "9997             69.0             71.0            114.0                 2   \n",
      "9998             38.0            119.0            126.0                16   \n",
      "9999             51.0            117.0            128.0                22   \n",
      "\n",
      "      adverse_events  adherence_pct  \n",
      "0                  0           24.0  \n",
      "1                  0           77.0  \n",
      "2                  0           70.0  \n",
      "3                  0           62.0  \n",
      "4                  0            NaN  \n",
      "...              ...            ...  \n",
      "9995               0           20.0  \n",
      "9996               0           57.0  \n",
      "9997               1           77.0  \n",
      "9998               0           63.0  \n",
      "9999               0           48.0  \n",
      "\n",
      "[10000 rows x 11 columns]\n"
     ]
    }
   ],
   "source": [
    "# Select numeric columns\n",
    "print(f\"Select numeric columns:\\n{df.select_dtypes(include = ['number'])}\")"
   ]
  },
  {
   "cell_type": "code",
   "execution_count": 4,
   "metadata": {
    "execution": {
     "iopub.execute_input": "2025-10-29T13:27:10.249329Z",
     "iopub.status.busy": "2025-10-29T13:27:10.249182Z",
     "iopub.status.idle": "2025-10-29T13:27:10.253663Z",
     "shell.execute_reply": "2025-10-29T13:27:10.253125Z"
    }
   },
   "outputs": [
    {
     "name": "stdout",
     "output_type": "stream",
     "text": [
      "Select specific columns by name. Columns chosen: (1) age (2) dropout\n",
      "      age dropout\n",
      "0      80      No\n",
      "1      80      No\n",
      "2      82      No\n",
      "3      95      No\n",
      "4      95     Yes\n",
      "...   ...     ...\n",
      "9995   72      No\n",
      "9996  100      No\n",
      "9997   78      No\n",
      "9998   86      No\n",
      "9999   67      No\n",
      "\n",
      "[10000 rows x 2 columns]\n"
     ]
    }
   ],
   "source": [
    "# Select specific columns\n",
    "print(f\"Select specific columns by name. Columns chosen: (1) age (2) dropout\\n{df[['age', 'dropout']]}\")"
   ]
  },
  {
   "cell_type": "code",
   "execution_count": 5,
   "metadata": {
    "execution": {
     "iopub.execute_input": "2025-10-29T13:27:10.255173Z",
     "iopub.status.busy": "2025-10-29T13:27:10.255031Z",
     "iopub.status.idle": "2025-10-29T13:27:10.258588Z",
     "shell.execute_reply": "2025-10-29T13:27:10.257978Z"
    }
   },
   "outputs": [
    {
     "name": "stdout",
     "output_type": "stream",
     "text": [
      "Selecting a subset of rows and columns using .loc[]. Rows: 2-4 (Index) | Columns: age, dropout\n",
      "   age dropout\n",
      "2   82      No\n",
      "3   95      No\n",
      "4   95     Yes\n"
     ]
    }
   ],
   "source": [
    "# Use .loc[] to select subset\n",
    "print(f\"Selecting a subset of rows and columns using .loc[]. Rows: 2-4 (Index) | Columns: age, dropout\\n{df.loc[2:4, ['age', 'dropout']]}\")"
   ]
  },
  {
   "cell_type": "markdown",
   "metadata": {},
   "source": [
    "## Part 3: Filtering (4 points)\n",
    "\n",
    "Filter the data to answer these questions:\n",
    "\n",
    "1. How many patients are over 65 years old?\n",
    "2. How many patients have systolic BP > 140?\n",
    "3. Find patients who are both over 65 AND have systolic BP > 140\n",
    "4. Find patients from Site A or Site B using `.isin()`"
   ]
  },
  {
   "cell_type": "code",
   "execution_count": 6,
   "metadata": {
    "execution": {
     "iopub.execute_input": "2025-10-29T13:27:10.260136Z",
     "iopub.status.busy": "2025-10-29T13:27:10.260002Z",
     "iopub.status.idle": "2025-10-29T13:27:10.263920Z",
     "shell.execute_reply": "2025-10-29T13:27:10.263431Z"
    }
   },
   "outputs": [
    {
     "name": "stdout",
     "output_type": "stream",
     "text": [
      "Patients over 65: 8326\n"
     ]
    }
   ],
   "source": [
    "# Use filter_data to filter for age > 65\n",
    "filter_age = [{'column' : 'age', 'condition' : 'greater_than', 'value' : 65}]\n",
    "\n",
    "# Apply filter and count the results\n",
    "patients_over_65 = filter_data(df, filter_age)\n",
    "print(f\"Patients over 65: {len(patients_over_65)}\")"
   ]
  },
  {
   "cell_type": "code",
   "execution_count": 7,
   "metadata": {
    "execution": {
     "iopub.execute_input": "2025-10-29T13:27:10.265665Z",
     "iopub.status.busy": "2025-10-29T13:27:10.265543Z",
     "iopub.status.idle": "2025-10-29T13:27:10.269081Z",
     "shell.execute_reply": "2025-10-29T13:27:10.268585Z"
    }
   },
   "outputs": [
    {
     "name": "stdout",
     "output_type": "stream",
     "text": [
      "Patients with high BP: 538\n"
     ]
    }
   ],
   "source": [
    "# Use filter_data to filter for systolic_bp > 140\n",
    "filter_systolicbp = [{'column' : 'systolic_bp', 'condition' : 'greater_than', 'value' : 140}]\n",
    "\n",
    "# Apply the filter and count the results\n",
    "high_bp = filter_data(df, filter_systolicbp)\n",
    "print(f\"Patients with high BP: {len(high_bp)}\")"
   ]
  },
  {
   "cell_type": "code",
   "execution_count": 8,
   "metadata": {
    "execution": {
     "iopub.execute_input": "2025-10-29T13:27:10.270715Z",
     "iopub.status.busy": "2025-10-29T13:27:10.270581Z",
     "iopub.status.idle": "2025-10-29T13:27:10.275040Z",
     "shell.execute_reply": "2025-10-29T13:27:10.274604Z"
    }
   },
   "outputs": [
    {
     "name": "stdout",
     "output_type": "stream",
     "text": [
      "Patients over 65 AND high BP: 464\n"
     ]
    }
   ],
   "source": [
    "# Apply filter to multiple condition\n",
    "filter_age_bp = [\n",
    "    {'column': 'age', 'condition': 'greater_than', 'value': 65},\n",
    "    {'column': 'systolic_bp', 'condition': 'greater_than', 'value': 140}\n",
    "]\n",
    "\n",
    "# Apply the filter and count the results\n",
    "both_conditions = filter_data(df, filter_age_bp)\n",
    "print(f\"Patients over 65 AND high BP: {len(both_conditions)}\")"
   ]
  },
  {
   "cell_type": "code",
   "execution_count": 9,
   "metadata": {
    "execution": {
     "iopub.execute_input": "2025-10-29T13:27:10.276845Z",
     "iopub.status.busy": "2025-10-29T13:27:10.276709Z",
     "iopub.status.idle": "2025-10-29T13:27:10.281946Z",
     "shell.execute_reply": "2025-10-29T13:27:10.281402Z"
    }
   },
   "outputs": [
    {
     "name": "stdout",
     "output_type": "stream",
     "text": [
      "Patients from Site A or B: 1397\n"
     ]
    }
   ],
   "source": [
    "# Apply filter_data that uses .isin()\n",
    "filter_site = [{'column' : 'site', 'condition' : 'in_list', 'value' : ['Site A', 'Site B']}]\n",
    "\n",
    "# Apply the filter and count the results\n",
    "site_ab = filter_data(df, filter_site)\n",
    "print(f\"Patients from Site A or B: {len(site_ab)}\")"
   ]
  },
  {
   "cell_type": "markdown",
   "metadata": {},
   "source": [
    "## Part 4: Value Counts and Grouping (5 points)\n",
    "\n",
    "1. Get value counts for the 'site' column\n",
    "2. Get value counts for the 'intervention_group' column  \n",
    "3. Create a crosstab of site vs intervention_group\n",
    "4. Calculate mean age by site\n",
    "5. Save the site value counts to `output/q4_site_counts.csv`"
   ]
  },
  {
   "cell_type": "code",
   "execution_count": 10,
   "metadata": {
    "execution": {
     "iopub.execute_input": "2025-10-29T13:27:10.283557Z",
     "iopub.status.busy": "2025-10-29T13:27:10.283405Z",
     "iopub.status.idle": "2025-10-29T13:27:10.301081Z",
     "shell.execute_reply": "2025-10-29T13:27:10.300484Z"
    }
   },
   "outputs": [
    {
     "name": "stdout",
     "output_type": "stream",
     "text": [
      "Value counts from the 'site' column:\n",
      "site\n",
      "site b         742\n",
      "Site B         736\n",
      "SITE B         703\n",
      "SITE A         684\n",
      "Site  A        681\n",
      "Site A         661\n",
      "Site C         658\n",
      "site a         651\n",
      "site c         615\n",
      "SITE C         605\n",
      "Site D         362\n",
      "site d         349\n",
      "Site_D         332\n",
      "Site E         319\n",
      "SITE D         313\n",
      "SITE E         295\n",
      "site e         294\n",
      "  SITE B        94\n",
      "  site b        90\n",
      "  Site B        88\n",
      "  Site C        83\n",
      "  SITE A        74\n",
      "  site a        74\n",
      "  Site  A       67\n",
      "  Site A        64\n",
      "  site c        57\n",
      "  SITE C        55\n",
      "  Site E        42\n",
      "  site d        41\n",
      "  SITE D        41\n",
      "  site e        36\n",
      "  Site D        32\n",
      "  SITE E        31\n",
      "  Site_D        31\n",
      "Name: count, dtype: int64\n",
      "Value counts from the 'intervention_group' column:\n",
      "intervention_group\n",
      "Contrl              802\n",
      "TREATMENT B         761\n",
      "Treatment  B        760\n",
      "Control             751\n",
      "treatment b         750\n",
      "control             734\n",
      "Treatment B         730\n",
      "CONTROL             715\n",
      "TreatmentA          635\n",
      "Treatment A         610\n",
      "Treatmen A          592\n",
      "treatment a         588\n",
      "TREATMENT A         572\n",
      "  Treatment B       104\n",
      "  Control            95\n",
      "  treatment b        90\n",
      "  CONTROL            84\n",
      "  TREATMENT B        83\n",
      "  control            83\n",
      "  Contrl             73\n",
      "  treatment a        67\n",
      "  TreatmentA         66\n",
      "  Treatment A        66\n",
      "  TREATMENT A        65\n",
      "  Treatment  B       64\n",
      "  Treatmen A         60\n",
      "Name: count, dtype: int64\n",
      "Crosstabulation of the 'site' vs 'intervention_group' columns:\n",
      "intervention_group    CONTROL      Contrl      Control      TREATMENT A    \\\n",
      "site                                                                        \n",
      "  SITE A                      0           0            0                0   \n",
      "  SITE B                      0           0            1                0   \n",
      "  SITE C                      0           0            0                1   \n",
      "  SITE D                      0           0            0                0   \n",
      "  SITE E                      0           0            0                0   \n",
      "  Site  A                     1           0            1                0   \n",
      "  Site A                      1           0            0                0   \n",
      "  Site B                      3           2            0                0   \n",
      "  Site C                      0           0            1                0   \n",
      "  Site D                      0           0            0                0   \n",
      "  Site E                      0           0            1                0   \n",
      "  Site_D                      0           0            0                1   \n",
      "  site a                      0           2            0                1   \n",
      "  site b                      1           1            0                0   \n",
      "  site c                      0           0            0                2   \n",
      "  site d                      0           1            0                0   \n",
      "  site e                      0           0            1                1   \n",
      "SITE A                        3           2            6                2   \n",
      "SITE B                        6           4           10                4   \n",
      "SITE C                        4           2            9                8   \n",
      "SITE D                        6           2            0                2   \n",
      "SITE E                        1           1            4                4   \n",
      "Site  A                       3           9            3                1   \n",
      "Site A                        9           7            3                6   \n",
      "Site B                        5          11           11                7   \n",
      "Site C                        6           6            4                5   \n",
      "Site D                        3           2            5                1   \n",
      "Site E                        5           4            6                3   \n",
      "Site_D                        2           3            1                2   \n",
      "site a                        7           5            5                3   \n",
      "site b                        6           2            8                5   \n",
      "site c                        6           4            8                4   \n",
      "site d                        4           2            6                1   \n",
      "site e                        2           1            1                1   \n",
      "\n",
      "intervention_group    TREATMENT B      Treatmen A      Treatment  B    \\\n",
      "site                                                                    \n",
      "  SITE A                          1               0                 0   \n",
      "  SITE B                          1               1                 2   \n",
      "  SITE C                          0               0                 0   \n",
      "  SITE D                          1               0                 0   \n",
      "  SITE E                          0               0                 0   \n",
      "  Site  A                         0               0                 1   \n",
      "  Site A                          0               1                 0   \n",
      "  Site B                          1               0                 0   \n",
      "  Site C                          1               0                 0   \n",
      "  Site D                          0               0                 0   \n",
      "  Site E                          1               0                 0   \n",
      "  Site_D                          0               0                 0   \n",
      "  site a                          0               0                 1   \n",
      "  site b                          0               1                 0   \n",
      "  site c                          0               0                 1   \n",
      "  site d                          1               0                 0   \n",
      "  site e                          0               1                 1   \n",
      "SITE A                            6               3                 4   \n",
      "SITE B                            7               2                 3   \n",
      "SITE C                            4               1                 5   \n",
      "SITE D                            2               3                 4   \n",
      "SITE E                            1               1                 1   \n",
      "Site  A                          11               6                 5   \n",
      "Site A                            4               5                 3   \n",
      "Site B                            6               3                 8   \n",
      "Site C                            4               6                 2   \n",
      "Site D                            1               0                 2   \n",
      "Site E                            5               2                 3   \n",
      "Site_D                            0               2                 1   \n",
      "site a                            5               5                 6   \n",
      "site b                            8               6                 4   \n",
      "site c                            4               0                 4   \n",
      "site d                            3               8                 2   \n",
      "site e                            5               3                 1   \n",
      "\n",
      "intervention_group    Treatment A      Treatment B      TreatmentA    ...  \\\n",
      "site                                                                  ...   \n",
      "  SITE A                          1                0               0  ...   \n",
      "  SITE B                          1                2               1  ...   \n",
      "  SITE C                          0                1               1  ...   \n",
      "  SITE D                          0                0               0  ...   \n",
      "  SITE E                          1                2               0  ...   \n",
      "  Site  A                         1                1               0  ...   \n",
      "  Site A                          1                1               0  ...   \n",
      "  Site B                          0                0               2  ...   \n",
      "  Site C                          0                1               0  ...   \n",
      "  Site D                          1                1               0  ...   \n",
      "  Site E                          1                0               0  ...   \n",
      "  Site_D                          0                1               0  ...   \n",
      "  site a                          0                1               0  ...   \n",
      "  site b                          0                0               1  ...   \n",
      "  site c                          0                0               0  ...   \n",
      "  site d                          0                0               1  ...   \n",
      "  site e                          0                0               1  ...   \n",
      "SITE A                            3                3               4  ...   \n",
      "SITE B                            7                4               6  ...   \n",
      "SITE C                            3                6               0  ...   \n",
      "SITE D                            0                2               4  ...   \n",
      "SITE E                            0                4               5  ...   \n",
      "Site  A                           0                6               5  ...   \n",
      "Site A                            6                6               4  ...   \n",
      "Site B                            6                5               4  ...   \n",
      "Site C                            5                8               5  ...   \n",
      "Site D                            4                4               1  ...   \n",
      "Site E                            4                5               0  ...   \n",
      "Site_D                            3                2               1  ...   \n",
      "site a                            5               15               3  ...   \n",
      "site b                            4               11               6  ...   \n",
      "site c                            4                7               5  ...   \n",
      "site d                            1                1               6  ...   \n",
      "site e                            4                4               0  ...   \n",
      "\n",
      "intervention_group  TREATMENT A  TREATMENT B  Treatmen A  Treatment  B  \\\n",
      "site                                                                     \n",
      "  SITE A                      4            7           2             6   \n",
      "  SITE B                      1            5           2             8   \n",
      "  SITE C                      2            3           5             4   \n",
      "  SITE D                      2            3           2             7   \n",
      "  SITE E                      3            1           2             3   \n",
      "  Site  A                     5            7           2             4   \n",
      "  Site A                      3           10           6             7   \n",
      "  Site B                      5            9           7            11   \n",
      "  Site C                      4            8           6             7   \n",
      "  Site D                      1            3           2             6   \n",
      "  Site E                      3            1           4             4   \n",
      "  Site_D                      2            2           2             2   \n",
      "  site a                     12            5           7             5   \n",
      "  site b                      8            2           4             4   \n",
      "  site c                      0            4           2             4   \n",
      "  site d                      2            4           4             3   \n",
      "  site e                      1            3           2             1   \n",
      "SITE A                       32           40          42            49   \n",
      "SITE B                       43           45          39            48   \n",
      "SITE C                       33           48          45            51   \n",
      "SITE D                       20           18          28            31   \n",
      "SITE E                       16           26          18            21   \n",
      "Site  A                      43           53          34            44   \n",
      "Site A                       37           46          39            49   \n",
      "Site B                       41           64          46            51   \n",
      "Site C                       43           56          41            38   \n",
      "Site D                       20           21          18            33   \n",
      "Site E                       25           31          19            28   \n",
      "Site_D                       17           15          18            22   \n",
      "site a                       38           61          32            46   \n",
      "site b                       43           56          40            67   \n",
      "site c                       26           58          39            51   \n",
      "site d                       20           23          18            26   \n",
      "site e                       17           23          15            19   \n",
      "\n",
      "intervention_group  Treatment A  Treatment B  TreatmentA  control  \\\n",
      "site                                                                \n",
      "  SITE A                      7            7           6        7   \n",
      "  SITE B                      2           12           6        7   \n",
      "  SITE C                      4            5           3        5   \n",
      "  SITE D                      1            3           4        3   \n",
      "  SITE E                      1            3           4        0   \n",
      "  Site  A                     7            3           7        4   \n",
      "  Site A                      0            1           2        2   \n",
      "  Site B                      3            7           6        5   \n",
      "  Site C                      4            5           6       11   \n",
      "  Site D                      1            2           1        1   \n",
      "  Site E                      1            0           0        4   \n",
      "  Site_D                      1            3           3        0   \n",
      "  site a                      3            3           3        7   \n",
      "  site b                      8            8           4        6   \n",
      "  site c                      2            6           4        3   \n",
      "  site d                      0            4           2        3   \n",
      "  site e                      1            2           3        4   \n",
      "SITE A                       28           57          45       63   \n",
      "SITE B                       54           59          59       58   \n",
      "SITE C                       42           40          38       47   \n",
      "SITE D                       16           27          17       26   \n",
      "SITE E                       18           20          16       25   \n",
      "Site  A                      40           41          40       49   \n",
      "Site A                       45           43          39       49   \n",
      "Site B                       39           54          42       49   \n",
      "Site C                       43           38          35       54   \n",
      "Site D                       12           38          33       24   \n",
      "Site E                       19           18          15       27   \n",
      "Site_D                       32           28          20       35   \n",
      "site a                       34           44          48       43   \n",
      "site b                       53           61          48       44   \n",
      "site c                       38           43          43       33   \n",
      "site d                       29           21          24       19   \n",
      "site e                       22           24           9       17   \n",
      "\n",
      "intervention_group  treatment a  treatment b  \n",
      "site                                          \n",
      "  SITE A                      4            7  \n",
      "  SITE B                      4           12  \n",
      "  SITE C                      7            5  \n",
      "  SITE D                      4            3  \n",
      "  SITE E                      1            0  \n",
      "  Site  A                     3            4  \n",
      "  Site A                      5            5  \n",
      "  Site B                      4            6  \n",
      "  Site C                      7            5  \n",
      "  Site D                      5            1  \n",
      "  Site E                      2            2  \n",
      "  Site_D                      2            1  \n",
      "  site a                      2            3  \n",
      "  site b                      3           11  \n",
      "  site c                      2            7  \n",
      "  site d                      3            3  \n",
      "  site e                      1            5  \n",
      "SITE A                       55           53  \n",
      "SITE B                       36           57  \n",
      "SITE C                       25           42  \n",
      "SITE D                       20           23  \n",
      "SITE E                       24           21  \n",
      "Site  A                      39           52  \n",
      "Site A                       35           48  \n",
      "Site B                       49           57  \n",
      "Site C                       37           50  \n",
      "Site D                       22           32  \n",
      "Site E                       16           31  \n",
      "Site_D                       22           19  \n",
      "site a                       46           50  \n",
      "site b                       45           41  \n",
      "site c                       23           46  \n",
      "site d                       21           23  \n",
      "site e                       14           25  \n",
      "\n",
      "[34 rows x 26 columns]\n",
      "Mean age by site:\n",
      "site\n",
      "  SITE A       23.608108\n",
      "  SITE B       59.670213\n",
      "  SITE C       60.254545\n",
      "  SITE D       77.853659\n",
      "  SITE E       12.258065\n",
      "  Site  A      80.328358\n",
      "  Site A       49.843750\n",
      "  Site B       56.318182\n",
      "  Site C       27.831325\n",
      "  Site D      -25.312500\n",
      "  Site E       75.500000\n",
      "  Site_D        9.870968\n",
      "  site a       67.270270\n",
      "  site b       57.022222\n",
      "  site c       80.929825\n",
      "  site d       81.000000\n",
      "  site e       83.194444\n",
      "SITE A         60.910819\n",
      "SITE B         63.628734\n",
      "SITE C         55.459504\n",
      "SITE D         55.511182\n",
      "SITE E         51.867797\n",
      "Site  A        53.770925\n",
      "Site A         61.440242\n",
      "Site B         56.911685\n",
      "Site C         60.890578\n",
      "Site D         67.472376\n",
      "Site E         56.429467\n",
      "Site_D         77.993976\n",
      "site a         49.803379\n",
      "site b         68.405660\n",
      "site c         56.832520\n",
      "site d         61.882521\n",
      "site e         61.860544\n",
      "Name: age, dtype: float64\n"
     ]
    }
   ],
   "source": [
    "# Get value counts for site column\n",
    "site_counts = df['site'].value_counts()\n",
    "print(f\"Value counts from the 'site' column:\\n{site_counts}\")\n",
    "\n",
    "# Get value counts for intervention_group column\n",
    "intervention_counts = df['intervention_group'].value_counts()\n",
    "print(f\"Value counts from the 'intervention_group' column:\\n{intervention_counts}\")\n",
    "\n",
    "# Create a crosstab of site vs intervention group\n",
    "crosstab = df.pivot_table(\n",
    "    index = 'site',\n",
    "    columns = 'intervention_group',\n",
    "    aggfunc = 'size',\n",
    "    fill_value = 0\n",
    ")\n",
    "print(f\"Crosstabulation of the 'site' vs 'intervention_group' columns:\\n{crosstab}\")\n",
    "\n",
    "# Calculate mean age by site\n",
    "mean_age_by_site = df.groupby('site')['age'].mean()\n",
    "print(f\"Mean age by site:\\n{mean_age_by_site}\")"
   ]
  },
  {
   "cell_type": "code",
   "execution_count": 11,
   "metadata": {
    "execution": {
     "iopub.execute_input": "2025-10-29T13:27:10.302648Z",
     "iopub.status.busy": "2025-10-29T13:27:10.302502Z",
     "iopub.status.idle": "2025-10-29T13:27:10.306361Z",
     "shell.execute_reply": "2025-10-29T13:27:10.305803Z"
    }
   },
   "outputs": [],
   "source": [
    "# Save output\n",
    "site_counts.to_csv('output/q4_site_counts.csv')\n"
   ]
  },
  {
   "cell_type": "markdown",
   "metadata": {},
   "source": [
    "## Summary\n",
    "\n",
    "Write 2-3 sentences about what you learned from exploring this dataset."
   ]
  },
  {
   "cell_type": "markdown",
   "metadata": {},
   "source": [
    "**Your summary here:**\n",
    "\n",
    "After exploring this dataset, we see that it is primarily composed of older adults (~85% older than 65) who are surprisingly healthy (~5% of patients have high BP). We must also note, however, that our dataset appears to be pretty messy. From our cross-tabulation of site versus intervention group, we see a bunch of formatting issues with the 'site' variable, which directly affects our calculation of the number of people at each site. As such, data cleaning is needed if we want our dataset to be usable and interpretable.\n"
   ]
  }
 ],
 "metadata": {
  "kernelspec": {
   "display_name": "Python 3",
   "language": "python",
   "name": "python3"
  },
  "language_info": {
   "codemirror_mode": {
    "name": "ipython",
    "version": 3
   },
   "file_extension": ".py",
   "mimetype": "text/x-python",
   "name": "python",
   "nbconvert_exporter": "python",
   "pygments_lexer": "ipython3",
   "version": "3.13.7"
  }
 },
 "nbformat": 4,
 "nbformat_minor": 2
}
