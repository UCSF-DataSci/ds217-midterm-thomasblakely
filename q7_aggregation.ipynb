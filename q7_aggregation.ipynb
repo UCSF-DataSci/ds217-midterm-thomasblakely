{
 "cells": [
  {
   "cell_type": "markdown",
   "metadata": {},
   "source": [
    "# Assignment 5, Question 7: Group Operations & Final Analysis\n",
    "\n",
    "**Points: 15**\n",
    "\n",
    "Perform grouped analysis and create summary reports."
   ]
  },
  {
   "cell_type": "markdown",
   "metadata": {},
   "source": [
    "## Setup"
   ]
  },
  {
   "cell_type": "code",
   "execution_count": 1,
   "metadata": {
    "execution": {
     "iopub.execute_input": "2025-10-29T13:57:45.975593Z",
     "iopub.status.busy": "2025-10-29T13:57:45.975193Z",
     "iopub.status.idle": "2025-10-29T13:57:46.599364Z",
     "shell.execute_reply": "2025-10-29T13:57:46.598785Z"
    }
   },
   "outputs": [
    {
     "name": "stdout",
     "output_type": "stream",
     "text": [
      "Loaded 10000 patients\n"
     ]
    }
   ],
   "source": [
    "import pandas as pd\n",
    "import numpy as np\n",
    "import matplotlib.pyplot as plt\n",
    "\n",
    "# Import utilities\n",
    "from q3_data_utils import load_data, summarize_by_group\n",
    "\n",
    "df = load_data('output/q6_transformed_data.csv')\n",
    "print(f\"Loaded {len(df)} patients\")\n",
    "\n",
    "# Prewritten visualization function for grouped analysis\n",
    "def plot_group_comparison(data, x_col, y_col, title):\n",
    "    \"\"\"\n",
    "    Create a bar chart comparing groups.\n",
    "    \n",
    "    Args:\n",
    "        data: DataFrame with grouped data\n",
    "        x_col: Column name for x-axis (groups)\n",
    "        y_col: Column name for y-axis (values)\n",
    "        title: Chart title\n",
    "    \"\"\"\n",
    "    plt.figure(figsize=(10, 6))\n",
    "    data.plot(x=x_col, y=y_col, kind='bar')\n",
    "    plt.title(title)\n",
    "    plt.xticks(rotation=45)\n",
    "    plt.tight_layout()\n",
    "    plt.show()"
   ]
  },
  {
   "cell_type": "markdown",
   "metadata": {},
   "source": [
    "## Part 1: Basic Groupby (5 points)\n",
    "\n",
    "1. Group by 'site' and calculate mean age, BMI, and blood pressure\n",
    "2. Group by 'intervention_group' and count patients\n",
    "3. Use the `summarize_by_group()` utility to get overall statistics by site"
   ]
  },
  {
   "cell_type": "code",
   "execution_count": 2,
   "metadata": {
    "execution": {
     "iopub.execute_input": "2025-10-29T13:57:46.628462Z",
     "iopub.status.busy": "2025-10-29T13:57:46.628294Z",
     "iopub.status.idle": "2025-10-29T13:57:46.638541Z",
     "shell.execute_reply": "2025-10-29T13:57:46.637955Z"
    }
   },
   "outputs": [
    {
     "name": "stdout",
     "output_type": "stream",
     "text": [
      "              age        bmi  systolic_bp  diastolic_bp\n",
      "site                                                   \n",
      "site a  56.364005  25.878687   117.341340     73.529432\n",
      "site b  62.401957  25.718997   117.125561     73.298002\n",
      "site c  57.312108  25.800241   117.937771     73.648336\n",
      "site d  63.491006  25.588541   117.892738     73.604930\n",
      "site e  57.064897  25.511504   117.481809     73.720747\n"
     ]
    }
   ],
   "source": [
    "# Recreate site and intervention columns for grouping purposes\n",
    "site_cols = [col for col in df.columns if col.startswith('site_')]\n",
    "df['site'] = 'site a'\n",
    "for col in site_cols:\n",
    "    df.loc[df[col] == 1, 'site'] = col.replace('site_', '')\n",
    "\n",
    "intervention_col = [col for col in df.columns if col.startswith('intervention_group_')]\n",
    "df['intervention_group'] = \"control\"\n",
    "for col in intervention_col:\n",
    "    df.loc[df[col] == 1, 'intervention_group'] = col.replace('intervention_group_', '')\n",
    "\n",
    "# Calculate mean age, BMI, and blood pressure per site\n",
    "gb_site = df.groupby('site')[['age', 'bmi', 'systolic_bp', 'diastolic_bp']].agg('mean')\n",
    "print(gb_site)"
   ]
  },
  {
   "cell_type": "code",
   "execution_count": 3,
   "metadata": {
    "execution": {
     "iopub.execute_input": "2025-10-29T13:57:46.640117Z",
     "iopub.status.busy": "2025-10-29T13:57:46.639984Z",
     "iopub.status.idle": "2025-10-29T13:57:46.649877Z",
     "shell.execute_reply": "2025-10-29T13:57:46.649380Z"
    }
   },
   "outputs": [
    {
     "name": "stdout",
     "output_type": "stream",
     "text": [
      "                    patient_id   age   sex   bmi  enrollment_date  \\\n",
      "intervention_group                                                  \n",
      "control                   3337  3337  3337  3337             3337   \n",
      "treatment a               3321  3321  3321  3321             3321   \n",
      "treatment b               3342  3342  3342  3342             3342   \n",
      "\n",
      "                    systolic_bp  diastolic_bp  cholesterol_total  \\\n",
      "intervention_group                                                 \n",
      "control                    3337          3337               3337   \n",
      "treatment a                3321          3321               3321   \n",
      "treatment b                3342          3342               3342   \n",
      "\n",
      "                    cholesterol_hdl  cholesterol_ldl  ...  bp_category  \\\n",
      "intervention_group                                    ...                \n",
      "control                        3337             3337  ...         3337   \n",
      "treatment a                    3321             3321  ...         3321   \n",
      "treatment b                    3342             3342  ...         3342   \n",
      "\n",
      "                    age_group  bmi_category  intervention_group_treatment a  \\\n",
      "intervention_group                                                            \n",
      "control                  2776          3281                            3337   \n",
      "treatment a              2772          3259                            3321   \n",
      "treatment b              2763          3272                            3342   \n",
      "\n",
      "                    intervention_group_treatment b  site_site b  site_site c  \\\n",
      "intervention_group                                                             \n",
      "control                                       3337         3337         3337   \n",
      "treatment a                                   3321         3321         3321   \n",
      "treatment b                                   3342         3342         3342   \n",
      "\n",
      "                    site_site d  site_site e  site  \n",
      "intervention_group                                  \n",
      "control                    3337         3337  3337  \n",
      "treatment a                3321         3321  3321  \n",
      "treatment b                3342         3342  3342  \n",
      "\n",
      "[3 rows x 27 columns]\n"
     ]
    }
   ],
   "source": [
    "# Count patients by intervention group\n",
    "gb_intervention = df.groupby('intervention_group').agg('count')\n",
    "print(gb_intervention)"
   ]
  },
  {
   "cell_type": "markdown",
   "metadata": {},
   "source": [
    "**Note:** The `summarize_by_group()` function has an optional `agg_dict` parameter for custom aggregations. If you don't specify it, it will use `.describe()` on numeric columns. You can use `agg_dict={'age': ['mean', 'std'], 'bmi': 'mean'}` for custom aggregations.\n"
   ]
  },
  {
   "cell_type": "code",
   "execution_count": 4,
   "metadata": {
    "execution": {
     "iopub.execute_input": "2025-10-29T13:57:46.651516Z",
     "iopub.status.busy": "2025-10-29T13:57:46.651379Z",
     "iopub.status.idle": "2025-10-29T13:57:46.702770Z",
     "shell.execute_reply": "2025-10-29T13:57:46.702176Z"
    }
   },
   "outputs": [
    {
     "name": "stdout",
     "output_type": "stream",
     "text": [
      "           age                                                            bmi  \\\n",
      "         count       mean         std    min   25%   50%   75%    max   count   \n",
      "site                                                                            \n",
      "site a  2956.0  56.364005  162.536292 -999.0  70.0  81.0  93.0  100.0  2956.0   \n",
      "site b  2453.0  62.401957  139.050180 -999.0  69.0  80.0  92.0  100.0  2453.0   \n",
      "site c  2073.0  57.312108  157.941868 -999.0  70.0  80.0  91.0  100.0  2073.0   \n",
      "site d  1501.0  63.491006  136.140058 -999.0  70.0  80.0  92.0  100.0  1501.0   \n",
      "site e  1017.0  57.064897  157.697644 -999.0  69.0  80.0  92.0  100.0  1017.0   \n",
      "\n",
      "                   ... adherence_pct        cholesterol_ratio            \\\n",
      "             mean  ...           75%    max             count      mean   \n",
      "site               ...                                                    \n",
      "site a  25.878687  ...          73.0  100.0            2956.0  1.494966   \n",
      "site b  25.718997  ...          72.0  100.0            2453.0  1.479700   \n",
      "site c  25.800241  ...          72.0  100.0            2073.0  1.504100   \n",
      "site d  25.588541  ...          72.0  100.0            1501.0  1.460657   \n",
      "site e  25.511504  ...          69.0  100.0            1017.0  1.531123   \n",
      "\n",
      "                                                                    \n",
      "             std       min       25%       50%       75%       max  \n",
      "site                                                                \n",
      "site a  0.714035  0.430108  1.000000  1.377049  1.836140  6.520000  \n",
      "site b  0.687122  0.434783  1.000000  1.377049  1.786885  6.655172  \n",
      "site c  0.766308  0.408163  0.987013  1.377049  1.813559  8.692308  \n",
      "site d  0.682616  0.425532  1.000000  1.377049  1.791667  5.785714  \n",
      "site e  0.748075  0.412371  1.000000  1.377049  1.854167  6.307692  \n",
      "\n",
      "[5 rows x 96 columns]\n"
     ]
    }
   ],
   "source": [
    "# Use summarize_by_group utility\n",
    "overall_stats = summarize_by_group(df, 'site')\n",
    "print(overall_stats)"
   ]
  },
  {
   "cell_type": "markdown",
   "metadata": {},
   "source": [
    "## Part 2: Multiple Aggregations (5 points)\n",
    "\n",
    "Group by 'site' and apply multiple aggregations:\n",
    "- age: mean, std, min, max\n",
    "- bmi: mean, std\n",
    "- systolic_bp: mean, median\n",
    "\n",
    "Display the results in a well-formatted table."
   ]
  },
  {
   "cell_type": "code",
   "execution_count": 5,
   "metadata": {
    "execution": {
     "iopub.execute_input": "2025-10-29T13:57:46.704444Z",
     "iopub.status.busy": "2025-10-29T13:57:46.704301Z",
     "iopub.status.idle": "2025-10-29T13:57:46.717988Z",
     "shell.execute_reply": "2025-10-29T13:57:46.717475Z"
    }
   },
   "outputs": [
    {
     "data": {
      "text/html": [
       "<div>\n",
       "<style scoped>\n",
       "    .dataframe tbody tr th:only-of-type {\n",
       "        vertical-align: middle;\n",
       "    }\n",
       "\n",
       "    .dataframe tbody tr th {\n",
       "        vertical-align: top;\n",
       "    }\n",
       "\n",
       "    .dataframe thead tr th {\n",
       "        text-align: left;\n",
       "    }\n",
       "\n",
       "    .dataframe thead tr:last-of-type th {\n",
       "        text-align: right;\n",
       "    }\n",
       "</style>\n",
       "<table border=\"1\" class=\"dataframe\">\n",
       "  <thead>\n",
       "    <tr>\n",
       "      <th></th>\n",
       "      <th colspan=\"4\" halign=\"left\">age</th>\n",
       "      <th colspan=\"2\" halign=\"left\">bmi</th>\n",
       "      <th colspan=\"2\" halign=\"left\">systolic_bp</th>\n",
       "    </tr>\n",
       "    <tr>\n",
       "      <th></th>\n",
       "      <th>mean</th>\n",
       "      <th>std</th>\n",
       "      <th>min</th>\n",
       "      <th>max</th>\n",
       "      <th>mean</th>\n",
       "      <th>std</th>\n",
       "      <th>mean</th>\n",
       "      <th>median</th>\n",
       "    </tr>\n",
       "    <tr>\n",
       "      <th>site</th>\n",
       "      <th></th>\n",
       "      <th></th>\n",
       "      <th></th>\n",
       "      <th></th>\n",
       "      <th></th>\n",
       "      <th></th>\n",
       "      <th></th>\n",
       "      <th></th>\n",
       "    </tr>\n",
       "  </thead>\n",
       "  <tbody>\n",
       "    <tr>\n",
       "      <th>site a</th>\n",
       "      <td>56.364005</td>\n",
       "      <td>162.536292</td>\n",
       "      <td>-999</td>\n",
       "      <td>100</td>\n",
       "      <td>25.878687</td>\n",
       "      <td>4.912664</td>\n",
       "      <td>117.341340</td>\n",
       "      <td>117.0</td>\n",
       "    </tr>\n",
       "    <tr>\n",
       "      <th>site b</th>\n",
       "      <td>62.401957</td>\n",
       "      <td>139.050180</td>\n",
       "      <td>-999</td>\n",
       "      <td>100</td>\n",
       "      <td>25.718997</td>\n",
       "      <td>4.911263</td>\n",
       "      <td>117.125561</td>\n",
       "      <td>117.0</td>\n",
       "    </tr>\n",
       "    <tr>\n",
       "      <th>site c</th>\n",
       "      <td>57.312108</td>\n",
       "      <td>157.941868</td>\n",
       "      <td>-999</td>\n",
       "      <td>100</td>\n",
       "      <td>25.800241</td>\n",
       "      <td>5.278374</td>\n",
       "      <td>117.937771</td>\n",
       "      <td>117.0</td>\n",
       "    </tr>\n",
       "    <tr>\n",
       "      <th>site d</th>\n",
       "      <td>63.491006</td>\n",
       "      <td>136.140058</td>\n",
       "      <td>-999</td>\n",
       "      <td>100</td>\n",
       "      <td>25.588541</td>\n",
       "      <td>5.725171</td>\n",
       "      <td>117.892738</td>\n",
       "      <td>117.0</td>\n",
       "    </tr>\n",
       "    <tr>\n",
       "      <th>site e</th>\n",
       "      <td>57.064897</td>\n",
       "      <td>157.697644</td>\n",
       "      <td>-999</td>\n",
       "      <td>100</td>\n",
       "      <td>25.511504</td>\n",
       "      <td>5.878845</td>\n",
       "      <td>117.481809</td>\n",
       "      <td>117.0</td>\n",
       "    </tr>\n",
       "  </tbody>\n",
       "</table>\n",
       "</div>"
      ],
      "text/plain": [
       "              age                              bmi           systolic_bp  \\\n",
       "             mean         std  min  max       mean       std        mean   \n",
       "site                                                                       \n",
       "site a  56.364005  162.536292 -999  100  25.878687  4.912664  117.341340   \n",
       "site b  62.401957  139.050180 -999  100  25.718997  4.911263  117.125561   \n",
       "site c  57.312108  157.941868 -999  100  25.800241  5.278374  117.937771   \n",
       "site d  63.491006  136.140058 -999  100  25.588541  5.725171  117.892738   \n",
       "site e  57.064897  157.697644 -999  100  25.511504  5.878845  117.481809   \n",
       "\n",
       "               \n",
       "       median  \n",
       "site           \n",
       "site a  117.0  \n",
       "site b  117.0  \n",
       "site c  117.0  \n",
       "site d  117.0  \n",
       "site e  117.0  "
      ]
     },
     "metadata": {},
     "output_type": "display_data"
    }
   ],
   "source": [
    "# Multiple aggregations\n",
    "multi_agg = summarize_by_group(df, 'site', agg_dict = {\n",
    "    'age' : ['mean', 'std', 'min', 'max'],\n",
    "    'bmi' : ['mean', 'std'],\n",
    "    'systolic_bp' : ['mean', 'median']\n",
    "})\n",
    "display(multi_agg)"
   ]
  },
  {
   "cell_type": "markdown",
   "metadata": {},
   "source": [
    "## Part 3: Comparative Analysis (5 points)\n",
    "\n",
    "Compare intervention groups:\n",
    "1. Calculate mean outcome_cvd rate by intervention_group\n",
    "2. Calculate mean adherence_pct by intervention_group\n",
    "3. Create a cross-tabulation of intervention_group vs dropout status\n",
    "4. Visualize the comparison with a bar plot"
   ]
  },
  {
   "cell_type": "code",
   "execution_count": 6,
   "metadata": {
    "execution": {
     "iopub.execute_input": "2025-10-29T13:57:46.719795Z",
     "iopub.status.busy": "2025-10-29T13:57:46.719642Z",
     "iopub.status.idle": "2025-10-29T13:57:46.735121Z",
     "shell.execute_reply": "2025-10-29T13:57:46.734558Z"
    }
   },
   "outputs": [
    {
     "name": "stdout",
     "output_type": "stream",
     "text": [
      "Mean outcome cvd rate by intervention group\n",
      "intervention_group\n",
      "control        0.336530\n",
      "treatment a    0.319482\n",
      "treatment b    0.333633\n",
      "Name: outcome_cvd, dtype: float64\n",
      "Mean adherence percentage by intervention group\n",
      "intervention_group\n",
      "control        60.830686\n",
      "treatment a    60.474255\n",
      "treatment b    61.149013\n",
      "Name: adherence_pct, dtype: float64\n",
      "Cross-tabulation of intervention group vs dropout status\n",
      "intervention_group  control  treatment a  treatment b\n",
      "dropout                                              \n",
      "no                     2831         2831         2871\n",
      "yes                     506          490          471\n",
      "Number of adverse events per group\n",
      "intervention_group\n",
      "control        230\n",
      "treatment a    628\n",
      "treatment b    597\n",
      "Name: adverse_events, dtype: int64\n"
     ]
    },
    {
     "name": "stderr",
     "output_type": "stream",
     "text": [
      "/var/folders/q2/425x2zhd1b3f3hnjp4v223880000gn/T/ipykernel_28537/2136776289.py:3: FutureWarning: Downcasting behavior in `replace` is deprecated and will be removed in a future version. To retain the old behavior, explicitly call `result.infer_objects(copy=False)`. To opt-in to the future behavior, set `pd.set_option('future.no_silent_downcasting', True)`\n",
      "  df['outcome_cvd'] = df['outcome_cvd'].replace(['Yes', 'yes'], 1)\n"
     ]
    }
   ],
   "source": [
    "# Standardize outcome_cvd and get mean by intervention group\n",
    "df['outcome_cvd'] = df['outcome_cvd'].replace(['No', 'no'], 0)\n",
    "df['outcome_cvd'] = df['outcome_cvd'].replace(['Yes', 'yes'], 1)\n",
    "mean_cvd = df.groupby('intervention_group')['outcome_cvd'].agg('mean')\n",
    "print(f\"Mean outcome cvd rate by intervention group\\n{mean_cvd}\")\n",
    "\n",
    "# Get adherence_pct by intervention group\n",
    "mean_adherence = df.groupby('intervention_group')['adherence_pct'].agg('mean')\n",
    "print(f\"Mean adherence percentage by intervention group\\n{mean_adherence}\")\n",
    "\n",
    "# Create cross-tabulation of intervention_group vs dropout status\n",
    "crosstab = df.pivot_table(\n",
    "    index = 'dropout',\n",
    "    columns = 'intervention_group',\n",
    "    aggfunc = 'size',\n",
    "    fill_value = 0\n",
    ")\n",
    "print(f\"Cross-tabulation of intervention group vs dropout status\\n{crosstab}\")\n",
    "\n",
    "# Output adverse events per intervention group\n",
    "adverse_events = df.groupby('intervention_group')['adverse_events'].agg('sum')\n",
    "print(f'Number of adverse events per group\\n{adverse_events}')"
   ]
  },
  {
   "cell_type": "code",
   "execution_count": 7,
   "metadata": {
    "execution": {
     "iopub.execute_input": "2025-10-29T13:57:46.736681Z",
     "iopub.status.busy": "2025-10-29T13:57:46.736538Z",
     "iopub.status.idle": "2025-10-29T13:57:46.837702Z",
     "shell.execute_reply": "2025-10-29T13:57:46.837177Z"
    }
   },
   "outputs": [
    {
     "name": "stdout",
     "output_type": "stream",
     "text": [
      "Mean dropout rate by intervention group\n",
      "intervention_group\n",
      "control        0.151633\n",
      "treatment a    0.147546\n",
      "treatment b    0.140934\n",
      "Name: dropout, dtype: float64\n"
     ]
    },
    {
     "name": "stderr",
     "output_type": "stream",
     "text": [
      "/var/folders/q2/425x2zhd1b3f3hnjp4v223880000gn/T/ipykernel_28537/4243286913.py:2: FutureWarning: Downcasting behavior in `replace` is deprecated and will be removed in a future version. To retain the old behavior, explicitly call `result.infer_objects(copy=False)`. To opt-in to the future behavior, set `pd.set_option('future.no_silent_downcasting', True)`\n",
      "  df['dropout'] = df['dropout'].replace(['no', 'yes'], [0, 1])\n"
     ]
    },
    {
     "data": {
      "text/plain": [
       "(0.0, 1.0)"
      ]
     },
     "execution_count": 7,
     "metadata": {},
     "output_type": "execute_result"
    },
    {
     "data": {
      "image/png": "[encoded data removed]",
      "text/plain": [
       "<Figure size 640x480 with 1 Axes>"
      ]
     },
     "metadata": {},
     "output_type": "display_data"
    }
   ],
   "source": [
    "# Get dropout rate\n",
    "df['dropout'] = df['dropout'].replace(['no', 'yes'], [0, 1])\n",
    "mean_dropout = df.groupby('intervention_group')['dropout'].agg('mean')\n",
    "print(f\"Mean dropout rate by intervention group\\n{mean_dropout}\")\n",
    "\n",
    "# Convert adherence to decimal\n",
    "mean_adherence = mean_adherence / 100\n",
    "\n",
    "# Visualize and compare desired rates\n",
    "comparison_df = pd.DataFrame({\n",
    "    'CVD_Rate' : mean_cvd,\n",
    "    'Adherence_Rate' : mean_adherence,\n",
    "    'Dropout_Rate' : mean_dropout\n",
    "})\n",
    "comparison_df.plot(kind = 'bar')\n",
    "plt.xlabel(\"Intervention Group\")\n",
    "plt.ylabel('Rate (0 - 1)')\n",
    "plt.ylim(0, 1)"
   ]
  },
  {
   "cell_type": "markdown",
   "metadata": {},
   "source": [
    "## Part 4: Final Report\n",
    "\n",
    "Create and save:\n",
    "1. Summary statistics by site → `output/q7_site_summary.csv`\n",
    "2. Intervention group comparison → `output/q7_intervention_comparison.csv`\n",
    "3. Text report with key findings → `output/q7_analysis_report.txt`"
   ]
  },
  {
   "cell_type": "code",
   "execution_count": 8,
   "metadata": {
    "execution": {
     "iopub.execute_input": "2025-10-29T13:57:46.839431Z",
     "iopub.status.busy": "2025-10-29T13:57:46.839285Z",
     "iopub.status.idle": "2025-10-29T13:57:46.884766Z",
     "shell.execute_reply": "2025-10-29T13:57:46.884048Z"
    }
   },
   "outputs": [
    {
     "name": "stdout",
     "output_type": "stream",
     "text": [
      "Top 10 patients by cholesterol total\n",
      "     patient_id  age     sex   bmi enrollment_date  systolic_bp  diastolic_bp  \\\n",
      "6808     p06809   78  female  32.6      2023-02-28        128.0          64.0   \n",
      "5703     p05704   98  female  33.0      2023-04-24        144.0          86.0   \n",
      "2748     p02749   83    male  24.4      2022-10-27        131.0          85.0   \n",
      "9534     p09535   56  female  30.3      2022-05-13        117.0          71.0   \n",
      "1670     p01671   58  female  29.2      2023-09-16        145.0          93.0   \n",
      "1636     p01637   65    male  24.5      2023-10-15        128.0          73.0   \n",
      "9660     p09661 -999  female  35.4      2023-05-21        146.0          92.0   \n",
      "1830     p01831   65    male  27.6      2023-05-16        129.0          86.0   \n",
      "9522     p09523   78  female  35.4      2022-05-01        167.0         106.0   \n",
      "5478     p05479   85  female  31.5      2023-05-10        119.0          70.0   \n",
      "\n",
      "      cholesterol_total  cholesterol_hdl  cholesterol_ldl  ...  age_group  \\\n",
      "6808              315.0             26.0            226.0  ...        70+   \n",
      "5703              304.0             52.0            191.0  ...        70+   \n",
      "2748              303.0             77.0            165.0  ...        70+   \n",
      "9534              301.0             56.0            185.0  ...      55-69   \n",
      "1670              299.0             72.0            167.0  ...      55-69   \n",
      "1636              294.0             43.0            192.0  ...      55-69   \n",
      "9660              293.0             65.0            169.0  ...        NaN   \n",
      "1830              293.0             61.0            173.0  ...      55-69   \n",
      "9522              292.0             45.0            189.0  ...        70+   \n",
      "5478              289.0             53.0            178.0  ...        70+   \n",
      "\n",
      "      bmi_category  intervention_group_treatment a  \\\n",
      "6808         Obese                           False   \n",
      "5703         Obese                           False   \n",
      "2748        Normal                           False   \n",
      "9534         Obese                           False   \n",
      "1670    Overweight                           False   \n",
      "1636        Normal                           False   \n",
      "9660         Obese                           False   \n",
      "1830    Overweight                           False   \n",
      "9522         Obese                           False   \n",
      "5478         Obese                           False   \n",
      "\n",
      "      intervention_group_treatment b  site_site b  site_site c  site_site d  \\\n",
      "6808                            True        False         True        False   \n",
      "5703                            True         True        False        False   \n",
      "2748                            True        False        False        False   \n",
      "9534                           False         True        False        False   \n",
      "1670                           False         True        False        False   \n",
      "1636                           False        False         True        False   \n",
      "9660                            True        False        False        False   \n",
      "1830                            True        False        False         True   \n",
      "9522                            True        False         True        False   \n",
      "5478                           False        False         True        False   \n",
      "\n",
      "     site_site e    site intervention_group  \n",
      "6808       False  site c        treatment b  \n",
      "5703       False  site b        treatment b  \n",
      "2748       False  site a        treatment b  \n",
      "9534       False  site b            control  \n",
      "1670       False  site b            control  \n",
      "1636       False  site c            control  \n",
      "9660       False  site a        treatment b  \n",
      "1830       False  site d        treatment b  \n",
      "9522       False  site c        treatment b  \n",
      "5478       False  site c            control  \n",
      "\n",
      "[10 rows x 28 columns]\n"
     ]
    },
    {
     "name": "stdout",
     "output_type": "stream",
     "text": [
      "Calculate statistics by age group\n",
      "              age                                                        bmi  \\\n",
      "            count       mean       std   min   25%   50%   75%   max   count   \n",
      "age_group                                                                      \n",
      "40-54       211.0  51.341232  2.586992  43.0  50.0  52.0  53.0  54.0   211.0   \n",
      "55-69      2050.0  63.591707  3.959240  55.0  61.0  64.0  67.0  69.0  2050.0   \n",
      "70+        6050.0  82.897686  8.115891  70.0  76.0  82.0  89.0  99.0  6050.0   \n",
      "\n",
      "                      ... dropout      cholesterol_ratio                      \\\n",
      "                mean  ...     75%  max             count      mean       std   \n",
      "age_group             ...                                                      \n",
      "40-54      25.822749  ...     0.0  1.0             211.0  1.479870  0.716696   \n",
      "55-69      25.668000  ...     0.0  1.0            2050.0  1.492887  0.722465   \n",
      "70+        25.738000  ...     0.0  1.0            6050.0  1.491301  0.723310   \n",
      "\n",
      "                                                             \n",
      "                min       25%       50%       75%       max  \n",
      "age_group                                                    \n",
      "40-54      0.481928  1.023214  1.363636  1.691224  4.289474  \n",
      "55-69      0.430108  1.000000  1.377049  1.835199  5.551724  \n",
      "70+        0.408163  1.000000  1.377049  1.821429  8.692308  \n",
      "\n",
      "[3 rows x 112 columns]\n"
     ]
    }
   ],
   "source": [
    "# Optional advanced analysis\n",
    "\n",
    "# Top 10 patients by cholesterol_total\n",
    "print(f\"Top 10 patients by cholesterol total\\n{df.sort_values('cholesterol_total', ascending = False).head(10)}\")\n",
    "\n",
    "# Summarize by age group\n",
    "print(f\"Calculate statistics by age group\\n{summarize_by_group(df, 'age_group')}\")\n"
   ]
  },
  {
   "cell_type": "code",
   "execution_count": 9,
   "metadata": {
    "execution": {
     "iopub.execute_input": "2025-10-29T13:57:46.886363Z",
     "iopub.status.busy": "2025-10-29T13:57:46.886223Z",
     "iopub.status.idle": "2025-10-29T13:57:46.893487Z",
     "shell.execute_reply": "2025-10-29T13:57:46.892879Z"
    }
   },
   "outputs": [],
   "source": [
    "# Get desired summary statistics for each site\n",
    "site_summary = df.groupby('site').agg({\n",
    "    'age' : 'mean',\n",
    "    'bmi': 'mean',\n",
    "    'patient_id': 'count'\n",
    "}).rename(columns = {'patient_id' : 'patient count'})\n",
    "\n",
    "# Get desired intervention group comparison metrics\n",
    "intervention_comparison = pd.DataFrame({\n",
    "    'CVD_Rate' : mean_cvd,\n",
    "    'Adherence_Rate' : mean_adherence,\n",
    "    'Dropout_Rate' : mean_dropout,\n",
    "    'Averse_Events' : adverse_events\n",
    "})\n",
    "\n",
    "# Save csv and output key findings\n",
    "site_summary.to_csv('output/q7_site_summary.csv')\n",
    "intervention_comparison.to_csv('output/q7_intervention_comparison.csv')\n",
    "with open('output/q7_analysis_report.txt', 'w') as file:\n",
    "    file.write('Analysis Report\\n\\n')\n",
    "    file.write('Finding 1: Patients in Treatment A had the lowest cardiovascular disease rate (31.9%).\\n')\n",
    "    file.write('Finding 2: Patients in Treatment A had the highest number of adverse events (628).\\n')\n",
    "    file.write('Finding 3: Patients in Treatment B had the highest adherence rate (61.1%).')"
   ]
  },
  {
   "cell_type": "markdown",
   "metadata": {},
   "source": [
    "## Summary\n",
    "\n",
    "What are the 3 most important findings from your analysis?"
   ]
  },
  {
   "cell_type": "markdown",
   "metadata": {},
   "source": [
    "**Key Findings:**\n",
    "\n",
    "1. Patients in Treatment A had the lowest cardiovascular disease rate (31.9%). \n",
    "2. Patients in Treatment A had the highest number of adverse events (628).\n",
    "3. Patients in Treatment B had the highest adherence rate (61.1%)."
   ]
  }
 ],
 "metadata": {
  "kernelspec": {
   "display_name": "Python 3",
   "language": "python",
   "name": "python3"
  },
  "language_info": {
   "codemirror_mode": {
    "name": "ipython",
    "version": 3
   },
   "file_extension": ".py",
   "mimetype": "text/x-python",
   "name": "python",
   "nbconvert_exporter": "python",
   "pygments_lexer": "ipython3",
   "version": "3.13.7"
  }
 },
 "nbformat": 4,
 "nbformat_minor": 2
}
