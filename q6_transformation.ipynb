{
 "cells": [
  {
   "cell_type": "markdown",
   "metadata": {},
   "source": [
    "# Assignment 5, Question 6: Data Transformation\n",
    "\n",
    "**Points: 20**\n",
    "\n",
    "Transform and engineer features from the clinical trial dataset."
   ]
  },
  {
   "cell_type": "markdown",
   "metadata": {},
   "source": [
    "## Setup"
   ]
  },
  {
   "cell_type": "code",
   "execution_count": 1,
   "metadata": {
    "execution": {
     "iopub.execute_input": "2025-10-29T13:57:42.058244Z",
     "iopub.status.busy": "2025-10-29T13:57:42.058066Z",
     "iopub.status.idle": "2025-10-29T13:57:42.673144Z",
     "shell.execute_reply": "2025-10-29T13:57:42.672586Z"
    }
   },
   "outputs": [
    {
     "name": "stdout",
     "output_type": "stream",
     "text": [
      "Loaded 10000 patients\n"
     ]
    }
   ],
   "source": [
    "import pandas as pd\n",
    "import numpy as np\n",
    "import matplotlib.pyplot as plt\n",
    "\n",
    "# Import utilities\n",
    "from q3_data_utils import load_data, clean_data, transform_types, create_bins, fill_missing\n",
    "\n",
    "df = load_data('output/q5_cleaned_data.csv')\n",
    "print(f\"Loaded {len(df)} patients\")\n",
    "\n",
    "# Prewritten visualization functions for transformation analysis\n",
    "def plot_distribution(series, title, figsize=(10, 6)):\n",
    "    \"\"\"\n",
    "    Create a histogram of a numeric series.\n",
    "    \n",
    "    Args:\n",
    "        series: pandas Series with numeric data\n",
    "        title: Chart title\n",
    "        figsize: Figure size tuple\n",
    "    \"\"\"\n",
    "    plt.figure(figsize=figsize)\n",
    "    series.hist(bins=30)\n",
    "    plt.title(title)\n",
    "    plt.xlabel('Value')\n",
    "    plt.ylabel('Frequency')\n",
    "    plt.tight_layout()\n",
    "    plt.show()\n",
    "\n",
    "def plot_value_counts(series, title, figsize=(10, 6)):\n",
    "    \"\"\"\n",
    "    Create a bar chart of value counts.\n",
    "    \n",
    "    Args:\n",
    "        series: pandas Series with value counts\n",
    "        title: Chart title\n",
    "        figsize: Figure size tuple\n",
    "    \"\"\"\n",
    "    plt.figure(figsize=figsize)\n",
    "    series.plot(kind='bar')\n",
    "    plt.title(title)\n",
    "    plt.xticks(rotation=45)\n",
    "    plt.tight_layout()\n",
    "    plt.show()"
   ]
  },
  {
   "cell_type": "markdown",
   "metadata": {},
   "source": [
    "## Part 1: Type Conversions (5 points)\n",
    "\n",
    "1. Convert 'enrollment_date' to datetime using the `transform_types()` utility\n",
    "2. Convert categorical columns ('site', 'intervention_group', 'sex') to category dtype\n",
    "3. Ensure all numeric columns are proper numeric types\n",
    "4. Display the updated dtypes"
   ]
  },
  {
   "cell_type": "code",
   "execution_count": 2,
   "metadata": {
    "execution": {
     "iopub.execute_input": "2025-10-29T13:57:42.702612Z",
     "iopub.status.busy": "2025-10-29T13:57:42.702419Z",
     "iopub.status.idle": "2025-10-29T13:57:42.715071Z",
     "shell.execute_reply": "2025-10-29T13:57:42.714424Z"
    }
   },
   "outputs": [
    {
     "name": "stdout",
     "output_type": "stream",
     "text": [
      "Updated data types\n",
      "patient_id            string[python]\n",
      "age                            int64\n",
      "sex                         category\n",
      "bmi                          float64\n",
      "enrollment_date       datetime64[ns]\n",
      "systolic_bp                  float64\n",
      "diastolic_bp                 float64\n",
      "cholesterol_total            float64\n",
      "cholesterol_hdl              float64\n",
      "cholesterol_ldl              float64\n",
      "glucose_fasting              float64\n",
      "site                        category\n",
      "intervention_group          category\n",
      "follow_up_months               int64\n",
      "adverse_events                 int64\n",
      "outcome_cvd                 category\n",
      "adherence_pct                float64\n",
      "dropout                     category\n",
      "dtype: object\n"
     ]
    }
   ],
   "source": [
    "# 1. Use transform_types() to convert enrollment_date to datetime\n",
    "# 2. Convert categorical columns ('site', 'intervention_group', 'sex') to category dtype\n",
    "# 3. Ensure all numeric columns are proper numeric types\n",
    "# Note: Numeric columns already properly classified, \n",
    "# patient_id | object => string, outcome_cvd, dropout | object => category\n",
    "type_map = {\n",
    "    'enrollment_date' : 'datetime',\n",
    "    'site' : 'category',\n",
    "    'intervention_group' : 'category',\n",
    "    'sex' : 'category',\n",
    "    'outcome_cvd' : 'category',\n",
    "    'dropout' : 'category',\n",
    "    'patient_id' : 'string'\n",
    "}\n",
    "\n",
    "# 4. Display the updated dtypes using df.dtypes\n",
    "df = transform_types(df, type_map)\n",
    "print(f\"Updated data types\\n{df.dtypes}\")"
   ]
  },
  {
   "cell_type": "markdown",
   "metadata": {},
   "source": [
    "## Part 2: Feature Engineering (8 points)\n",
    "\n",
    "Create these new calculated columns:\n",
    "\n",
    "1. `cholesterol_ratio` = cholesterol_ldl / cholesterol_hdl\n",
    "2. `bp_category` = categorize systolic BP:\n",
    "   - 'Normal': < 120\n",
    "   - 'Elevated': 120-129\n",
    "   - 'High': >= 130\n",
    "3. `age_group` using `create_bins()` utility:\n",
    "   - Bins: [0, 40, 55, 70, 100]\n",
    "   - Labels: ['<40', '40-54', '55-69', '70+']\n",
    "4. `bmi_category` using standard BMI categories:\n",
    "   - Underweight: <18.5\n",
    "   - Normal: 18.5-24.9\n",
    "   - Overweight: 25-29.9\n",
    "   - Obese: >=30"
   ]
  },
  {
   "cell_type": "code",
   "execution_count": 3,
   "metadata": {
    "execution": {
     "iopub.execute_input": "2025-10-29T13:57:42.716982Z",
     "iopub.status.busy": "2025-10-29T13:57:42.716826Z",
     "iopub.status.idle": "2025-10-29T13:57:42.720656Z",
     "shell.execute_reply": "2025-10-29T13:57:42.720160Z"
    }
   },
   "outputs": [
    {
     "name": "stdout",
     "output_type": "stream",
     "text": [
      "0       0.745455\n",
      "1       1.844828\n",
      "2       1.464286\n",
      "3       1.857143\n",
      "4       0.961538\n",
      "          ...   \n",
      "9995    1.703704\n",
      "9996    1.250000\n",
      "9997    1.028986\n",
      "9998    3.131579\n",
      "9999    2.294118\n",
      "Name: cholesterol_ratio, Length: 10000, dtype: float64\n"
     ]
    }
   ],
   "source": [
    "# Calculate cholesterol ratio\n",
    "df['cholesterol_ratio'] = df['cholesterol_ldl'] / df['cholesterol_hdl']\n",
    "print(df['cholesterol_ratio'])"
   ]
  },
  {
   "cell_type": "code",
   "execution_count": 4,
   "metadata": {
    "execution": {
     "iopub.execute_input": "2025-10-29T13:57:42.722201Z",
     "iopub.status.busy": "2025-10-29T13:57:42.722082Z",
     "iopub.status.idle": "2025-10-29T13:57:42.726519Z",
     "shell.execute_reply": "2025-10-29T13:57:42.725859Z"
    }
   },
   "outputs": [
    {
     "name": "stdout",
     "output_type": "stream",
     "text": [
      "0       Elevated\n",
      "1           High\n",
      "2       Elevated\n",
      "3         Normal\n",
      "4         Normal\n",
      "          ...   \n",
      "9995    Elevated\n",
      "9996    Elevated\n",
      "9997      Normal\n",
      "9998        High\n",
      "9999        High\n",
      "Name: bp_category, Length: 10000, dtype: category\n",
      "Categories (3, object): ['Normal' < 'Elevated' < 'High']\n"
     ]
    }
   ],
   "source": [
    "# Categorize blood pressure\n",
    "df['bp_category'] = pd.cut(\n",
    "    df['systolic_bp'],\n",
    "    bins = [0, 120, 130, 200],\n",
    "    labels = ['Normal', 'Elevated', 'High'],\n",
    "    right = False\n",
    ")\n",
    "print(df['bp_category'])"
   ]
  },
  {
   "cell_type": "markdown",
   "metadata": {},
   "source": [
    "**Note:** The `create_bins()` function has an optional `new_column` parameter. If you don't specify it, the new column will be named `{original_column}_binned`. You can use `new_column='age_group'` to give it a custom name.\n"
   ]
  },
  {
   "cell_type": "code",
   "execution_count": 5,
   "metadata": {
    "execution": {
     "iopub.execute_input": "2025-10-29T13:57:42.728074Z",
     "iopub.status.busy": "2025-10-29T13:57:42.727933Z",
     "iopub.status.idle": "2025-10-29T13:57:42.732616Z",
     "shell.execute_reply": "2025-10-29T13:57:42.732062Z"
    }
   },
   "outputs": [
    {
     "name": "stdout",
     "output_type": "stream",
     "text": [
      "0         70+\n",
      "1         70+\n",
      "2         70+\n",
      "3         70+\n",
      "4         70+\n",
      "        ...  \n",
      "9995      70+\n",
      "9996      NaN\n",
      "9997      70+\n",
      "9998      70+\n",
      "9999    55-69\n",
      "Name: age_group, Length: 10000, dtype: category\n",
      "Categories (4, object): ['<40' < '40-54' < '55-69' < '70+']\n"
     ]
    }
   ],
   "source": [
    "# Create age groups\n",
    "df = create_bins(\n",
    "    df,\n",
    "    column = 'age',\n",
    "    bins = [0, 40, 55, 70, 100],\n",
    "    labels = ['<40', '40-54', '55-69', '70+'],\n",
    "    new_column = 'age_group'\n",
    ")\n",
    "print(df['age_group'])"
   ]
  },
  {
   "cell_type": "code",
   "execution_count": 6,
   "metadata": {
    "execution": {
     "iopub.execute_input": "2025-10-29T13:57:42.734044Z",
     "iopub.status.busy": "2025-10-29T13:57:42.733928Z",
     "iopub.status.idle": "2025-10-29T13:57:42.738077Z",
     "shell.execute_reply": "2025-10-29T13:57:42.737477Z"
    }
   },
   "outputs": [
    {
     "name": "stdout",
     "output_type": "stream",
     "text": [
      "0       Overweight\n",
      "1       Overweight\n",
      "2              NaN\n",
      "3       Overweight\n",
      "4       Overweight\n",
      "           ...    \n",
      "9995        Normal\n",
      "9996    Overweight\n",
      "9997        Normal\n",
      "9998    Overweight\n",
      "9999    Overweight\n",
      "Name: bmi_category, Length: 10000, dtype: category\n",
      "Categories (4, object): ['Underweight' < 'Normal' < 'Overweight' < 'Obese']\n"
     ]
    }
   ],
   "source": [
    "#  Create BMI categories\n",
    "df['bmi_category'] = pd.cut(\n",
    "    df['bmi'],\n",
    "    bins = [0, 18.5, 25, 30, 200],\n",
    "    labels = ['Underweight', 'Normal', 'Overweight', 'Obese'],\n",
    "    right = False\n",
    ")\n",
    "print(df['bmi_category'])"
   ]
  },
  {
   "cell_type": "markdown",
   "metadata": {},
   "source": [
    "## Part 3: String Cleaning (2 points)\n",
    "\n",
    "If there are any string columns that need cleaning:\n",
    "1. Convert to lowercase\n",
    "2. Strip whitespace\n",
    "3. Replace any placeholder values"
   ]
  },
  {
   "cell_type": "code",
   "execution_count": 7,
   "metadata": {
    "execution": {
     "iopub.execute_input": "2025-10-29T13:57:42.739621Z",
     "iopub.status.busy": "2025-10-29T13:57:42.739503Z",
     "iopub.status.idle": "2025-10-29T13:57:42.770855Z",
     "shell.execute_reply": "2025-10-29T13:57:42.770248Z"
    }
   },
   "outputs": [],
   "source": [
    "# Clean string and categorical\n",
    "string_cleaning = df.select_dtypes(include = ['string[python]', 'category']).columns.tolist()\n",
    "for cleaner in string_cleaning:\n",
    "    if cleaner in ['age_group', 'bp_category', 'bmi_category']:\n",
    "        continue\n",
    "    df[cleaner] = df[cleaner].astype(str).str.lower().str.strip()\n",
    "\n",
    "# Do specific cleaning of variables    \n",
    "df['sex'] = df['sex'].replace(['f', 'm'], ['female', 'male'])\n",
    "df['site'] = df['site'].replace(['site_d', 'site  a'], ['site d', 'site a'])\n",
    "df['intervention_group'] = df['intervention_group'].replace(['treatmen a', 'treatmenta'], 'treatment a')\n",
    "df['intervention_group'] = df['intervention_group'].replace(['treatment  b', 'contrl'], ['treatment b', 'control'])\n",
    "\n",
    "# Convert strings back to category\n",
    "for column in ['sex', 'site', 'intervention_group', 'outcome_cvd', 'dropout']:\n",
    "    df[column] = df[column].astype('category')\n"
   ]
  },
  {
   "cell_type": "markdown",
   "metadata": {},
   "source": [
    "## Part 4: One-Hot Encoding (5 points)\n",
    "\n",
    "Create dummy variables for categorical columns:\n",
    "1. One-hot encode 'intervention_group' using `pd.get_dummies()`\n",
    "2. One-hot encode 'site'\n",
    "3. Drop the original categorical columns\n",
    "4. Show the new shape and column names"
   ]
  },
  {
   "cell_type": "code",
   "execution_count": 8,
   "metadata": {
    "execution": {
     "iopub.execute_input": "2025-10-29T13:57:42.772498Z",
     "iopub.status.busy": "2025-10-29T13:57:42.772361Z",
     "iopub.status.idle": "2025-10-29T13:57:42.777297Z",
     "shell.execute_reply": "2025-10-29T13:57:42.776735Z"
    }
   },
   "outputs": [
    {
     "name": "stdout",
     "output_type": "stream",
     "text": [
      "Shape of new data frame: (10000, 26)\n",
      "Column names of new daa frame: Index(['patient_id', 'age', 'sex', 'bmi', 'enrollment_date', 'systolic_bp',\n",
      "       'diastolic_bp', 'cholesterol_total', 'cholesterol_hdl',\n",
      "       'cholesterol_ldl', 'glucose_fasting', 'follow_up_months',\n",
      "       'adverse_events', 'outcome_cvd', 'adherence_pct', 'dropout',\n",
      "       'cholesterol_ratio', 'bp_category', 'age_group', 'bmi_category',\n",
      "       'intervention_group_treatment a', 'intervention_group_treatment b',\n",
      "       'site_site b', 'site_site c', 'site_site d', 'site_site e'],\n",
      "      dtype='object')\n"
     ]
    }
   ],
   "source": [
    "# One-hot encoding\n",
    "df = pd.get_dummies(df, columns = ['intervention_group', 'site'], drop_first = True)\n",
    "print(f\"Shape of new data frame: {df.shape}\")\n",
    "print(f\"Column names of new daa frame: {df.columns}\")\n"
   ]
  },
  {
   "cell_type": "markdown",
   "metadata": {},
   "source": [
    "## Part 5: Save Transformed Data\n",
    "\n",
    "Save the fully transformed dataset to `output/q6_transformed_data.csv`"
   ]
  },
  {
   "cell_type": "code",
   "execution_count": 9,
   "metadata": {
    "execution": {
     "iopub.execute_input": "2025-10-29T13:57:42.778868Z",
     "iopub.status.busy": "2025-10-29T13:57:42.778727Z",
     "iopub.status.idle": "2025-10-29T13:57:42.870027Z",
     "shell.execute_reply": "2025-10-29T13:57:42.869496Z"
    }
   },
   "outputs": [],
   "source": [
    "# Save transformed data\n",
    "df.to_csv('output/q6_transformed_data.csv', index = False)\n"
   ]
  }
 ],
 "metadata": {
  "kernelspec": {
   "display_name": "Python 3",
   "language": "python",
   "name": "python3"
  },
  "language_info": {
   "codemirror_mode": {
    "name": "ipython",
    "version": 3
   },
   "file_extension": ".py",
   "mimetype": "text/x-python",
   "name": "python",
   "nbconvert_exporter": "python",
   "pygments_lexer": "ipython3",
   "version": "3.13.7"
  }
 },
 "nbformat": 4,
 "nbformat_minor": 2
}
